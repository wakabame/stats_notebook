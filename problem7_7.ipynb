{
 "cells": [
  {
   "cell_type": "code",
   "execution_count": 3,
   "metadata": {},
   "outputs": [
    {
     "data": {
      "text/plain": [
       "15-element Array{Float64,1}:\n",
       " 10.5\n",
       " 10.4\n",
       " 10.6\n",
       " 11.9\n",
       " 11.3\n",
       " 11.8\n",
       " 11.7\n",
       " 12.6\n",
       " 10.9\n",
       " 11.1\n",
       " 13.0\n",
       " 11.2\n",
       " 13.4\n",
       " 10.8\n",
       " 11.1"
      ]
     },
     "execution_count": 3,
     "metadata": {},
     "output_type": "execute_result"
    }
   ],
   "source": [
    "x = [10.5,\n",
    "10.4,\n",
    "10.6,\n",
    "11.9,\n",
    "11.3,\n",
    "11.8,\n",
    "11.7,\n",
    "12.6,\n",
    "10.9,\n",
    "11.1,\n",
    "13.0,\n",
    "11.2,\n",
    "13.4,\n",
    "10.8,\n",
    "11.1\n",
    "]"
   ]
  },
  {
   "cell_type": "code",
   "execution_count": 5,
   "metadata": {},
   "outputs": [
    {
     "ename": "ErrorException",
     "evalue": "No user recipe defined for Pair{String,String}",
     "output_type": "error",
     "traceback": [
      "No user recipe defined for Pair{String,String}",
      "",
      "Stacktrace:",
      " [1] error(::String) at .\\error.jl:33",
      " [2] convertToAnyVector(::Pair{String,String}, ::Dict{Symbol,Any}) at C:\\Users\\KIMURA\\.julia\\packages\\Plots\\y6yik\\src\\series.jl:14",
      " [3] macro expansion at C:\\Users\\KIMURA\\.julia\\packages\\Plots\\y6yik\\src\\series.jl:139 [inlined]",
      " [4] apply_recipe(::Dict{Symbol,Any}, ::Type{Plots.SliceIt}, ::Array{Float64,1}, ::Pair{String,String}, ::Nothing) at C:\\Users\\KIMURA\\.julia\\packages\\RecipesBase\\Uz5AO\\src\\RecipesBase.jl:275",
      " [5] _process_userrecipes(::Plots.Plot{Plots.GRBackend}, ::Dict{Symbol,Any}, ::Tuple{Array{Float64,1},Pair{String,String}}) at C:\\Users\\KIMURA\\.julia\\packages\\Plots\\y6yik\\src\\pipeline.jl:83",
      " [6] macro expansion at .\\logging.jl:307 [inlined]",
      " [7] _plot!(::Plots.Plot{Plots.GRBackend}, ::Dict{Symbol,Any}, ::Tuple{Array{Float64,1},Pair{String,String}}) at C:\\Users\\KIMURA\\.julia\\packages\\Plots\\y6yik\\src\\plot.jl:171",
      " [8] #plot#132(::Base.Iterators.Pairs{Union{},Union{},Tuple{},NamedTuple{(),Tuple{}}}, ::Function, ::Array{Float64,1}, ::Vararg{Any,N} where N) at C:\\Users\\KIMURA\\.julia\\packages\\Plots\\y6yik\\src\\plot.jl:57",
      " [9] plot(::Array{Float64,1}, ::Pair{String,String}) at C:\\Users\\KIMURA\\.julia\\packages\\Plots\\y6yik\\src\\plot.jl:51",
      " [10] top-level scope at In[5]:2"
     ]
    }
   ],
   "source": [
    "using Plots\n"
   ]
  },
  {
   "cell_type": "code",
   "execution_count": 22,
   "metadata": {},
   "outputs": [
    {
     "data": {
      "image/svg+xml": [
       "<?xml version=\"1.0\" encoding=\"utf-8\"?>\n",
       "<svg xmlns=\"http://www.w3.org/2000/svg\" xmlns:xlink=\"http://www.w3.org/1999/xlink\" width=\"600\" height=\"400\" viewBox=\"0 0 2400 1600\">\n",
       "<defs>\n",
       "  <clipPath id=\"clip0000\">\n",
       "    <rect x=\"0\" y=\"0\" width=\"2000\" height=\"2000\"/>\n",
       "  </clipPath>\n",
       "</defs>\n",
       "<defs>\n",
       "  <clipPath id=\"clip0001\">\n",
       "    <rect x=\"0\" y=\"0\" width=\"2400\" height=\"1600\"/>\n",
       "  </clipPath>\n",
       "</defs>\n",
       "<polygon clip-path=\"url(#clip0001)\" points=\"\n",
       "0,1600 2400,1600 2400,0 0,0 \n",
       "  \" fill=\"#ffffff\" fill-rule=\"evenodd\" fill-opacity=\"1\"/>\n",
       "<defs>\n",
       "  <clipPath id=\"clip0002\">\n",
       "    <rect x=\"480\" y=\"0\" width=\"1681\" height=\"1600\"/>\n",
       "  </clipPath>\n",
       "</defs>\n",
       "<polygon clip-path=\"url(#clip0001)\" points=\"\n",
       "121.251,1503.47 2321.26,1503.47 2321.26,47.2441 121.251,47.2441 \n",
       "  \" fill=\"#ffffff\" fill-rule=\"evenodd\" fill-opacity=\"1\"/>\n",
       "<defs>\n",
       "  <clipPath id=\"clip0003\">\n",
       "    <rect x=\"121\" y=\"47\" width=\"2201\" height=\"1457\"/>\n",
       "  </clipPath>\n",
       "</defs>\n",
       "<polyline clip-path=\"url(#clip0003)\" style=\"stroke:#000000; stroke-width:2; stroke-opacity:0.1; fill:none\" points=\"\n",
       "  242.255,1503.47 242.255,47.2441 \n",
       "  \"/>\n",
       "<polyline clip-path=\"url(#clip0003)\" style=\"stroke:#000000; stroke-width:2; stroke-opacity:0.1; fill:none\" points=\"\n",
       "  801.684,1503.47 801.684,47.2441 \n",
       "  \"/>\n",
       "<polyline clip-path=\"url(#clip0003)\" style=\"stroke:#000000; stroke-width:2; stroke-opacity:0.1; fill:none\" points=\"\n",
       "  1361.11,1503.47 1361.11,47.2441 \n",
       "  \"/>\n",
       "<polyline clip-path=\"url(#clip0003)\" style=\"stroke:#000000; stroke-width:2; stroke-opacity:0.1; fill:none\" points=\"\n",
       "  1920.54,1503.47 1920.54,47.2441 \n",
       "  \"/>\n",
       "<polyline clip-path=\"url(#clip0003)\" style=\"stroke:#000000; stroke-width:2; stroke-opacity:0.1; fill:none\" points=\"\n",
       "  121.251,1462.26 2321.26,1462.26 \n",
       "  \"/>\n",
       "<polyline clip-path=\"url(#clip0003)\" style=\"stroke:#000000; stroke-width:2; stroke-opacity:0.1; fill:none\" points=\"\n",
       "  121.251,1118.81 2321.26,1118.81 \n",
       "  \"/>\n",
       "<polyline clip-path=\"url(#clip0003)\" style=\"stroke:#000000; stroke-width:2; stroke-opacity:0.1; fill:none\" points=\"\n",
       "  121.251,775.359 2321.26,775.359 \n",
       "  \"/>\n",
       "<polyline clip-path=\"url(#clip0003)\" style=\"stroke:#000000; stroke-width:2; stroke-opacity:0.1; fill:none\" points=\"\n",
       "  121.251,431.909 2321.26,431.909 \n",
       "  \"/>\n",
       "<polyline clip-path=\"url(#clip0003)\" style=\"stroke:#000000; stroke-width:2; stroke-opacity:0.1; fill:none\" points=\"\n",
       "  121.251,88.4582 2321.26,88.4582 \n",
       "  \"/>\n",
       "<polyline clip-path=\"url(#clip0001)\" style=\"stroke:#000000; stroke-width:4; stroke-opacity:1; fill:none\" points=\"\n",
       "  121.251,1503.47 2321.26,1503.47 \n",
       "  \"/>\n",
       "<polyline clip-path=\"url(#clip0001)\" style=\"stroke:#000000; stroke-width:4; stroke-opacity:1; fill:none\" points=\"\n",
       "  121.251,1503.47 121.251,47.2441 \n",
       "  \"/>\n",
       "<polyline clip-path=\"url(#clip0001)\" style=\"stroke:#000000; stroke-width:4; stroke-opacity:1; fill:none\" points=\"\n",
       "  242.255,1503.47 242.255,1481.63 \n",
       "  \"/>\n",
       "<polyline clip-path=\"url(#clip0001)\" style=\"stroke:#000000; stroke-width:4; stroke-opacity:1; fill:none\" points=\"\n",
       "  801.684,1503.47 801.684,1481.63 \n",
       "  \"/>\n",
       "<polyline clip-path=\"url(#clip0001)\" style=\"stroke:#000000; stroke-width:4; stroke-opacity:1; fill:none\" points=\"\n",
       "  1361.11,1503.47 1361.11,1481.63 \n",
       "  \"/>\n",
       "<polyline clip-path=\"url(#clip0001)\" style=\"stroke:#000000; stroke-width:4; stroke-opacity:1; fill:none\" points=\"\n",
       "  1920.54,1503.47 1920.54,1481.63 \n",
       "  \"/>\n",
       "<polyline clip-path=\"url(#clip0001)\" style=\"stroke:#000000; stroke-width:4; stroke-opacity:1; fill:none\" points=\"\n",
       "  121.251,1462.26 154.251,1462.26 \n",
       "  \"/>\n",
       "<polyline clip-path=\"url(#clip0001)\" style=\"stroke:#000000; stroke-width:4; stroke-opacity:1; fill:none\" points=\"\n",
       "  121.251,1118.81 154.251,1118.81 \n",
       "  \"/>\n",
       "<polyline clip-path=\"url(#clip0001)\" style=\"stroke:#000000; stroke-width:4; stroke-opacity:1; fill:none\" points=\"\n",
       "  121.251,775.359 154.251,775.359 \n",
       "  \"/>\n",
       "<polyline clip-path=\"url(#clip0001)\" style=\"stroke:#000000; stroke-width:4; stroke-opacity:1; fill:none\" points=\"\n",
       "  121.251,431.909 154.251,431.909 \n",
       "  \"/>\n",
       "<polyline clip-path=\"url(#clip0001)\" style=\"stroke:#000000; stroke-width:4; stroke-opacity:1; fill:none\" points=\"\n",
       "  121.251,88.4582 154.251,88.4582 \n",
       "  \"/>\n",
       "<g clip-path=\"url(#clip0001)\">\n",
       "<text style=\"fill:#000000; fill-opacity:1; font-family:Arial,Helvetica Neue,Helvetica,sans-serif; font-size:48px; text-anchor:middle;\" transform=\"rotate(0, 242.255, 1557.47)\" x=\"242.255\" y=\"1557.47\">10</text>\n",
       "</g>\n",
       "<g clip-path=\"url(#clip0001)\">\n",
       "<text style=\"fill:#000000; fill-opacity:1; font-family:Arial,Helvetica Neue,Helvetica,sans-serif; font-size:48px; text-anchor:middle;\" transform=\"rotate(0, 801.684, 1557.47)\" x=\"801.684\" y=\"1557.47\">11</text>\n",
       "</g>\n",
       "<g clip-path=\"url(#clip0001)\">\n",
       "<text style=\"fill:#000000; fill-opacity:1; font-family:Arial,Helvetica Neue,Helvetica,sans-serif; font-size:48px; text-anchor:middle;\" transform=\"rotate(0, 1361.11, 1557.47)\" x=\"1361.11\" y=\"1557.47\">12</text>\n",
       "</g>\n",
       "<g clip-path=\"url(#clip0001)\">\n",
       "<text style=\"fill:#000000; fill-opacity:1; font-family:Arial,Helvetica Neue,Helvetica,sans-serif; font-size:48px; text-anchor:middle;\" transform=\"rotate(0, 1920.54, 1557.47)\" x=\"1920.54\" y=\"1557.47\">13</text>\n",
       "</g>\n",
       "<g clip-path=\"url(#clip0001)\">\n",
       "<text style=\"fill:#000000; fill-opacity:1; font-family:Arial,Helvetica Neue,Helvetica,sans-serif; font-size:48px; text-anchor:end;\" transform=\"rotate(0, 97.2505, 1479.76)\" x=\"97.2505\" y=\"1479.76\">0</text>\n",
       "</g>\n",
       "<g clip-path=\"url(#clip0001)\">\n",
       "<text style=\"fill:#000000; fill-opacity:1; font-family:Arial,Helvetica Neue,Helvetica,sans-serif; font-size:48px; text-anchor:end;\" transform=\"rotate(0, 97.2505, 1136.31)\" x=\"97.2505\" y=\"1136.31\">1</text>\n",
       "</g>\n",
       "<g clip-path=\"url(#clip0001)\">\n",
       "<text style=\"fill:#000000; fill-opacity:1; font-family:Arial,Helvetica Neue,Helvetica,sans-serif; font-size:48px; text-anchor:end;\" transform=\"rotate(0, 97.2505, 792.859)\" x=\"97.2505\" y=\"792.859\">2</text>\n",
       "</g>\n",
       "<g clip-path=\"url(#clip0001)\">\n",
       "<text style=\"fill:#000000; fill-opacity:1; font-family:Arial,Helvetica Neue,Helvetica,sans-serif; font-size:48px; text-anchor:end;\" transform=\"rotate(0, 97.2505, 449.409)\" x=\"97.2505\" y=\"449.409\">3</text>\n",
       "</g>\n",
       "<g clip-path=\"url(#clip0001)\">\n",
       "<text style=\"fill:#000000; fill-opacity:1; font-family:Arial,Helvetica Neue,Helvetica,sans-serif; font-size:48px; text-anchor:end;\" transform=\"rotate(0, 97.2505, 105.958)\" x=\"97.2505\" y=\"105.958\">4</text>\n",
       "</g>\n",
       "<polygon clip-path=\"url(#clip0003)\" points=\"\n",
       "242.255,1118.81 242.255,1462.26 521.969,1462.26 521.969,1118.81 242.255,1118.81 242.255,1118.81 \n",
       "  \" fill=\"#009af9\" fill-rule=\"evenodd\" fill-opacity=\"1\"/>\n",
       "<polyline clip-path=\"url(#clip0003)\" style=\"stroke:#000000; stroke-width:4; stroke-opacity:1; fill:none\" points=\"\n",
       "  242.255,1118.81 242.255,1462.26 521.969,1462.26 521.969,1118.81 242.255,1118.81 \n",
       "  \"/>\n",
       "<polygon clip-path=\"url(#clip0003)\" points=\"\n",
       "521.969,88.4582 521.969,1462.26 801.684,1462.26 801.684,88.4582 521.969,88.4582 521.969,88.4582 \n",
       "  \" fill=\"#009af9\" fill-rule=\"evenodd\" fill-opacity=\"1\"/>\n",
       "<polyline clip-path=\"url(#clip0003)\" style=\"stroke:#000000; stroke-width:4; stroke-opacity:1; fill:none\" points=\"\n",
       "  521.969,88.4582 521.969,1462.26 801.684,1462.26 801.684,88.4582 521.969,88.4582 \n",
       "  \"/>\n",
       "<polygon clip-path=\"url(#clip0003)\" points=\"\n",
       "801.684,88.4582 801.684,1462.26 1081.4,1462.26 1081.4,88.4582 801.684,88.4582 801.684,88.4582 \n",
       "  \" fill=\"#009af9\" fill-rule=\"evenodd\" fill-opacity=\"1\"/>\n",
       "<polyline clip-path=\"url(#clip0003)\" style=\"stroke:#000000; stroke-width:4; stroke-opacity:1; fill:none\" points=\"\n",
       "  801.684,88.4582 801.684,1462.26 1081.4,1462.26 1081.4,88.4582 801.684,88.4582 \n",
       "  \"/>\n",
       "<polygon clip-path=\"url(#clip0003)\" points=\"\n",
       "1081.4,431.909 1081.4,1462.26 1361.11,1462.26 1361.11,431.909 1081.4,431.909 1081.4,431.909 \n",
       "  \" fill=\"#009af9\" fill-rule=\"evenodd\" fill-opacity=\"1\"/>\n",
       "<polyline clip-path=\"url(#clip0003)\" style=\"stroke:#000000; stroke-width:4; stroke-opacity:1; fill:none\" points=\"\n",
       "  1081.4,431.909 1081.4,1462.26 1361.11,1462.26 1361.11,431.909 1081.4,431.909 \n",
       "  \"/>\n",
       "<polygon clip-path=\"url(#clip0003)\" points=\"\n",
       "1361.11,1462.26 1361.11,1462.26 1640.83,1462.26 1640.83,1462.26 1361.11,1462.26 1361.11,1462.26 \n",
       "  \" fill=\"#009af9\" fill-rule=\"evenodd\" fill-opacity=\"1\"/>\n",
       "<polyline clip-path=\"url(#clip0003)\" style=\"stroke:#000000; stroke-width:4; stroke-opacity:1; fill:none\" points=\"\n",
       "  1361.11,1462.26 1361.11,1462.26 1640.83,1462.26 1361.11,1462.26 \n",
       "  \"/>\n",
       "<polygon clip-path=\"url(#clip0003)\" points=\"\n",
       "1640.83,1118.81 1640.83,1462.26 1920.54,1462.26 1920.54,1118.81 1640.83,1118.81 1640.83,1118.81 \n",
       "  \" fill=\"#009af9\" fill-rule=\"evenodd\" fill-opacity=\"1\"/>\n",
       "<polyline clip-path=\"url(#clip0003)\" style=\"stroke:#000000; stroke-width:4; stroke-opacity:1; fill:none\" points=\"\n",
       "  1640.83,1118.81 1640.83,1462.26 1920.54,1462.26 1920.54,1118.81 1640.83,1118.81 \n",
       "  \"/>\n",
       "<polygon clip-path=\"url(#clip0003)\" points=\"\n",
       "1920.54,775.359 1920.54,1462.26 2200.26,1462.26 2200.26,775.359 1920.54,775.359 1920.54,775.359 \n",
       "  \" fill=\"#009af9\" fill-rule=\"evenodd\" fill-opacity=\"1\"/>\n",
       "<polyline clip-path=\"url(#clip0003)\" style=\"stroke:#000000; stroke-width:4; stroke-opacity:1; fill:none\" points=\"\n",
       "  1920.54,775.359 1920.54,1462.26 2200.26,1462.26 2200.26,775.359 1920.54,775.359 \n",
       "  \"/>\n",
       "<polygon clip-path=\"url(#clip0001)\" points=\"\n",
       "1958.43,251.724 2249.26,251.724 2249.26,130.764 1958.43,130.764 \n",
       "  \" fill=\"#ffffff\" fill-rule=\"evenodd\" fill-opacity=\"1\"/>\n",
       "<polyline clip-path=\"url(#clip0001)\" style=\"stroke:#000000; stroke-width:4; stroke-opacity:1; fill:none\" points=\"\n",
       "  1958.43,251.724 2249.26,251.724 2249.26,130.764 1958.43,130.764 1958.43,251.724 \n",
       "  \"/>\n",
       "<polygon clip-path=\"url(#clip0001)\" points=\"\n",
       "1982.43,215.436 2126.43,215.436 2126.43,167.052 1982.43,167.052 1982.43,215.436 \n",
       "  \" fill=\"#009af9\" fill-rule=\"evenodd\" fill-opacity=\"1\"/>\n",
       "<polyline clip-path=\"url(#clip0001)\" style=\"stroke:#000000; stroke-width:4; stroke-opacity:1; fill:none\" points=\"\n",
       "  1982.43,215.436 2126.43,215.436 2126.43,167.052 1982.43,167.052 1982.43,215.436 \n",
       "  \"/>\n",
       "<g clip-path=\"url(#clip0001)\">\n",
       "<text style=\"fill:#000000; fill-opacity:1; font-family:Arial,Helvetica Neue,Helvetica,sans-serif; font-size:48px; text-anchor:start;\" transform=\"rotate(0, 2150.43, 208.744)\" x=\"2150.43\" y=\"208.744\">y1</text>\n",
       "</g>\n",
       "</svg>\n"
      ]
     },
     "execution_count": 22,
     "metadata": {},
     "output_type": "execute_result"
    }
   ],
   "source": [
    "histogram(x, bins=12)"
   ]
  },
  {
   "cell_type": "code",
   "execution_count": 24,
   "metadata": {},
   "outputs": [],
   "source": [
    "using StatsBase"
   ]
  },
  {
   "cell_type": "code",
   "execution_count": 25,
   "metadata": {},
   "outputs": [
    {
     "data": {
      "text/plain": [
       "11.486666666666668"
      ]
     },
     "execution_count": 25,
     "metadata": {},
     "output_type": "execute_result"
    }
   ],
   "source": [
    "y = StatsBase.mean(x)"
   ]
  },
  {
   "cell_type": "code",
   "execution_count": 33,
   "metadata": {},
   "outputs": [
    {
     "data": {
      "text/plain": [
       "1.571842038518516"
      ]
     },
     "execution_count": 33,
     "metadata": {},
     "output_type": "execute_result"
    }
   ],
   "source": [
    "n = length(x)\n",
    "m_2 = sum([(x[i]-y)^2 for i in 1:n])/n\n",
    "m_3 = sum([(x[i]-y)^3 for i in 1:n])/n\n",
    "m_4 = sum([(x[i]-y)^4 for i in 1:n])/n"
   ]
  },
  {
   "cell_type": "code",
   "execution_count": 34,
   "metadata": {},
   "outputs": [
    {
     "data": {
      "text/plain": [
       "0.8103474667844051"
      ]
     },
     "execution_count": 34,
     "metadata": {},
     "output_type": "execute_result"
    }
   ],
   "source": [
    "b_1 = m_3/m_2^(3/2)"
   ]
  },
  {
   "cell_type": "code",
   "execution_count": 36,
   "metadata": {},
   "outputs": [
    {
     "data": {
      "text/plain": [
       "-0.40639363763642056"
      ]
     },
     "execution_count": 36,
     "metadata": {},
     "output_type": "execute_result"
    }
   ],
   "source": [
    "b_2 = m_4/m_2^2-3"
   ]
  },
  {
   "cell_type": "code",
   "execution_count": 37,
   "metadata": {},
   "outputs": [
    {
     "data": {
      "text/plain": [
       "15-element Array{Float64,1}:\n",
       " 20.0\n",
       " 18.3\n",
       " 20.3\n",
       " 37.1\n",
       " 20.2\n",
       " 21.0\n",
       "  6.5\n",
       " 24.0\n",
       " 14.2\n",
       " 21.0\n",
       " 18.3\n",
       " 13.4\n",
       " 14.8\n",
       " 21.6\n",
       " 16.8"
      ]
     },
     "execution_count": 37,
     "metadata": {},
     "output_type": "execute_result"
    }
   ],
   "source": [
    "x = [20.0,\n",
    "18.3,\n",
    "20.3,\n",
    "37.1,\n",
    "20.2,\n",
    "21.0,\n",
    "6.5,\n",
    "24.0,\n",
    "14.2,\n",
    "21.0,\n",
    "18.3,\n",
    "13.4,\n",
    "14.8,\n",
    "21.6,\n",
    "16.8\n",
    "]"
   ]
  },
  {
   "cell_type": "code",
   "execution_count": 38,
   "metadata": {},
   "outputs": [
    {
     "data": {
      "image/svg+xml": [
       "<?xml version=\"1.0\" encoding=\"utf-8\"?>\n",
       "<svg xmlns=\"http://www.w3.org/2000/svg\" xmlns:xlink=\"http://www.w3.org/1999/xlink\" width=\"600\" height=\"400\" viewBox=\"0 0 2400 1600\">\n",
       "<defs>\n",
       "  <clipPath id=\"clip0200\">\n",
       "    <rect x=\"0\" y=\"0\" width=\"2000\" height=\"2000\"/>\n",
       "  </clipPath>\n",
       "</defs>\n",
       "<defs>\n",
       "  <clipPath id=\"clip0201\">\n",
       "    <rect x=\"0\" y=\"0\" width=\"2400\" height=\"1600\"/>\n",
       "  </clipPath>\n",
       "</defs>\n",
       "<polygon clip-path=\"url(#clip0201)\" points=\"\n",
       "0,1600 2400,1600 2400,0 0,0 \n",
       "  \" fill=\"#ffffff\" fill-rule=\"evenodd\" fill-opacity=\"1\"/>\n",
       "<defs>\n",
       "  <clipPath id=\"clip0202\">\n",
       "    <rect x=\"480\" y=\"0\" width=\"1681\" height=\"1600\"/>\n",
       "  </clipPath>\n",
       "</defs>\n",
       "<polygon clip-path=\"url(#clip0201)\" points=\"\n",
       "121.251,1503.47 2321.26,1503.47 2321.26,47.2441 121.251,47.2441 \n",
       "  \" fill=\"#ffffff\" fill-rule=\"evenodd\" fill-opacity=\"1\"/>\n",
       "<defs>\n",
       "  <clipPath id=\"clip0203\">\n",
       "    <rect x=\"121\" y=\"47\" width=\"2201\" height=\"1457\"/>\n",
       "  </clipPath>\n",
       "</defs>\n",
       "<polyline clip-path=\"url(#clip0203)\" style=\"stroke:#000000; stroke-width:2; stroke-opacity:0.1; fill:none\" points=\"\n",
       "  521.969,1503.47 521.969,47.2441 \n",
       "  \"/>\n",
       "<polyline clip-path=\"url(#clip0203)\" style=\"stroke:#000000; stroke-width:2; stroke-opacity:0.1; fill:none\" points=\"\n",
       "  1081.4,1503.47 1081.4,47.2441 \n",
       "  \"/>\n",
       "<polyline clip-path=\"url(#clip0203)\" style=\"stroke:#000000; stroke-width:2; stroke-opacity:0.1; fill:none\" points=\"\n",
       "  1640.83,1503.47 1640.83,47.2441 \n",
       "  \"/>\n",
       "<polyline clip-path=\"url(#clip0203)\" style=\"stroke:#000000; stroke-width:2; stroke-opacity:0.1; fill:none\" points=\"\n",
       "  2200.26,1503.47 2200.26,47.2441 \n",
       "  \"/>\n",
       "<polyline clip-path=\"url(#clip0203)\" style=\"stroke:#000000; stroke-width:2; stroke-opacity:0.1; fill:none\" points=\"\n",
       "  121.251,1462.26 2321.26,1462.26 \n",
       "  \"/>\n",
       "<polyline clip-path=\"url(#clip0203)\" style=\"stroke:#000000; stroke-width:2; stroke-opacity:0.1; fill:none\" points=\"\n",
       "  121.251,1069.75 2321.26,1069.75 \n",
       "  \"/>\n",
       "<polyline clip-path=\"url(#clip0203)\" style=\"stroke:#000000; stroke-width:2; stroke-opacity:0.1; fill:none\" points=\"\n",
       "  121.251,677.231 2321.26,677.231 \n",
       "  \"/>\n",
       "<polyline clip-path=\"url(#clip0203)\" style=\"stroke:#000000; stroke-width:2; stroke-opacity:0.1; fill:none\" points=\"\n",
       "  121.251,284.716 2321.26,284.716 \n",
       "  \"/>\n",
       "<polyline clip-path=\"url(#clip0201)\" style=\"stroke:#000000; stroke-width:4; stroke-opacity:1; fill:none\" points=\"\n",
       "  121.251,1503.47 2321.26,1503.47 \n",
       "  \"/>\n",
       "<polyline clip-path=\"url(#clip0201)\" style=\"stroke:#000000; stroke-width:4; stroke-opacity:1; fill:none\" points=\"\n",
       "  121.251,1503.47 121.251,47.2441 \n",
       "  \"/>\n",
       "<polyline clip-path=\"url(#clip0201)\" style=\"stroke:#000000; stroke-width:4; stroke-opacity:1; fill:none\" points=\"\n",
       "  521.969,1503.47 521.969,1481.63 \n",
       "  \"/>\n",
       "<polyline clip-path=\"url(#clip0201)\" style=\"stroke:#000000; stroke-width:4; stroke-opacity:1; fill:none\" points=\"\n",
       "  1081.4,1503.47 1081.4,1481.63 \n",
       "  \"/>\n",
       "<polyline clip-path=\"url(#clip0201)\" style=\"stroke:#000000; stroke-width:4; stroke-opacity:1; fill:none\" points=\"\n",
       "  1640.83,1503.47 1640.83,1481.63 \n",
       "  \"/>\n",
       "<polyline clip-path=\"url(#clip0201)\" style=\"stroke:#000000; stroke-width:4; stroke-opacity:1; fill:none\" points=\"\n",
       "  2200.26,1503.47 2200.26,1481.63 \n",
       "  \"/>\n",
       "<polyline clip-path=\"url(#clip0201)\" style=\"stroke:#000000; stroke-width:4; stroke-opacity:1; fill:none\" points=\"\n",
       "  121.251,1462.26 154.251,1462.26 \n",
       "  \"/>\n",
       "<polyline clip-path=\"url(#clip0201)\" style=\"stroke:#000000; stroke-width:4; stroke-opacity:1; fill:none\" points=\"\n",
       "  121.251,1069.75 154.251,1069.75 \n",
       "  \"/>\n",
       "<polyline clip-path=\"url(#clip0201)\" style=\"stroke:#000000; stroke-width:4; stroke-opacity:1; fill:none\" points=\"\n",
       "  121.251,677.231 154.251,677.231 \n",
       "  \"/>\n",
       "<polyline clip-path=\"url(#clip0201)\" style=\"stroke:#000000; stroke-width:4; stroke-opacity:1; fill:none\" points=\"\n",
       "  121.251,284.716 154.251,284.716 \n",
       "  \"/>\n",
       "<g clip-path=\"url(#clip0201)\">\n",
       "<text style=\"fill:#000000; fill-opacity:1; font-family:Arial,Helvetica Neue,Helvetica,sans-serif; font-size:48px; text-anchor:middle;\" transform=\"rotate(0, 521.969, 1557.47)\" x=\"521.969\" y=\"1557.47\">10</text>\n",
       "</g>\n",
       "<g clip-path=\"url(#clip0201)\">\n",
       "<text style=\"fill:#000000; fill-opacity:1; font-family:Arial,Helvetica Neue,Helvetica,sans-serif; font-size:48px; text-anchor:middle;\" transform=\"rotate(0, 1081.4, 1557.47)\" x=\"1081.4\" y=\"1557.47\">20</text>\n",
       "</g>\n",
       "<g clip-path=\"url(#clip0201)\">\n",
       "<text style=\"fill:#000000; fill-opacity:1; font-family:Arial,Helvetica Neue,Helvetica,sans-serif; font-size:48px; text-anchor:middle;\" transform=\"rotate(0, 1640.83, 1557.47)\" x=\"1640.83\" y=\"1557.47\">30</text>\n",
       "</g>\n",
       "<g clip-path=\"url(#clip0201)\">\n",
       "<text style=\"fill:#000000; fill-opacity:1; font-family:Arial,Helvetica Neue,Helvetica,sans-serif; font-size:48px; text-anchor:middle;\" transform=\"rotate(0, 2200.26, 1557.47)\" x=\"2200.26\" y=\"1557.47\">40</text>\n",
       "</g>\n",
       "<g clip-path=\"url(#clip0201)\">\n",
       "<text style=\"fill:#000000; fill-opacity:1; font-family:Arial,Helvetica Neue,Helvetica,sans-serif; font-size:48px; text-anchor:end;\" transform=\"rotate(0, 97.2505, 1479.76)\" x=\"97.2505\" y=\"1479.76\">0</text>\n",
       "</g>\n",
       "<g clip-path=\"url(#clip0201)\">\n",
       "<text style=\"fill:#000000; fill-opacity:1; font-family:Arial,Helvetica Neue,Helvetica,sans-serif; font-size:48px; text-anchor:end;\" transform=\"rotate(0, 97.2505, 1087.25)\" x=\"97.2505\" y=\"1087.25\">2</text>\n",
       "</g>\n",
       "<g clip-path=\"url(#clip0201)\">\n",
       "<text style=\"fill:#000000; fill-opacity:1; font-family:Arial,Helvetica Neue,Helvetica,sans-serif; font-size:48px; text-anchor:end;\" transform=\"rotate(0, 97.2505, 694.731)\" x=\"97.2505\" y=\"694.731\">4</text>\n",
       "</g>\n",
       "<g clip-path=\"url(#clip0201)\">\n",
       "<text style=\"fill:#000000; fill-opacity:1; font-family:Arial,Helvetica Neue,Helvetica,sans-serif; font-size:48px; text-anchor:end;\" transform=\"rotate(0, 97.2505, 302.216)\" x=\"97.2505\" y=\"302.216\">6</text>\n",
       "</g>\n",
       "<polygon clip-path=\"url(#clip0203)\" points=\"\n",
       "242.255,1266 242.255,1462.26 521.969,1462.26 521.969,1266 242.255,1266 242.255,1266 \n",
       "  \" fill=\"#009af9\" fill-rule=\"evenodd\" fill-opacity=\"1\"/>\n",
       "<polyline clip-path=\"url(#clip0203)\" style=\"stroke:#000000; stroke-width:4; stroke-opacity:1; fill:none\" points=\"\n",
       "  242.255,1266 242.255,1462.26 521.969,1462.26 521.969,1266 242.255,1266 \n",
       "  \"/>\n",
       "<polygon clip-path=\"url(#clip0203)\" points=\"\n",
       "521.969,873.488 521.969,1462.26 801.684,1462.26 801.684,873.488 521.969,873.488 521.969,873.488 \n",
       "  \" fill=\"#009af9\" fill-rule=\"evenodd\" fill-opacity=\"1\"/>\n",
       "<polyline clip-path=\"url(#clip0203)\" style=\"stroke:#000000; stroke-width:4; stroke-opacity:1; fill:none\" points=\"\n",
       "  521.969,873.488 521.969,1462.26 801.684,1462.26 801.684,873.488 521.969,873.488 \n",
       "  \"/>\n",
       "<polygon clip-path=\"url(#clip0203)\" points=\"\n",
       "801.684,873.488 801.684,1462.26 1081.4,1462.26 1081.4,873.488 801.684,873.488 801.684,873.488 \n",
       "  \" fill=\"#009af9\" fill-rule=\"evenodd\" fill-opacity=\"1\"/>\n",
       "<polyline clip-path=\"url(#clip0203)\" style=\"stroke:#000000; stroke-width:4; stroke-opacity:1; fill:none\" points=\"\n",
       "  801.684,873.488 801.684,1462.26 1081.4,1462.26 1081.4,873.488 801.684,873.488 \n",
       "  \"/>\n",
       "<polygon clip-path=\"url(#clip0203)\" points=\"\n",
       "1081.4,88.4582 1081.4,1462.26 1361.11,1462.26 1361.11,88.4582 1081.4,88.4582 1081.4,88.4582 \n",
       "  \" fill=\"#009af9\" fill-rule=\"evenodd\" fill-opacity=\"1\"/>\n",
       "<polyline clip-path=\"url(#clip0203)\" style=\"stroke:#000000; stroke-width:4; stroke-opacity:1; fill:none\" points=\"\n",
       "  1081.4,88.4582 1081.4,1462.26 1361.11,1462.26 1361.11,88.4582 1081.4,88.4582 \n",
       "  \"/>\n",
       "<polygon clip-path=\"url(#clip0203)\" points=\"\n",
       "1361.11,1462.26 1361.11,1462.26 1640.83,1462.26 1640.83,1462.26 1361.11,1462.26 1361.11,1462.26 \n",
       "  \" fill=\"#009af9\" fill-rule=\"evenodd\" fill-opacity=\"1\"/>\n",
       "<polyline clip-path=\"url(#clip0203)\" style=\"stroke:#000000; stroke-width:4; stroke-opacity:1; fill:none\" points=\"\n",
       "  1361.11,1462.26 1361.11,1462.26 1640.83,1462.26 1361.11,1462.26 \n",
       "  \"/>\n",
       "<polygon clip-path=\"url(#clip0203)\" points=\"\n",
       "1640.83,1462.26 1640.83,1462.26 1920.54,1462.26 1920.54,1462.26 1640.83,1462.26 1640.83,1462.26 \n",
       "  \" fill=\"#009af9\" fill-rule=\"evenodd\" fill-opacity=\"1\"/>\n",
       "<polyline clip-path=\"url(#clip0203)\" style=\"stroke:#000000; stroke-width:4; stroke-opacity:1; fill:none\" points=\"\n",
       "  1640.83,1462.26 1640.83,1462.26 1920.54,1462.26 1640.83,1462.26 \n",
       "  \"/>\n",
       "<polygon clip-path=\"url(#clip0203)\" points=\"\n",
       "1920.54,1266 1920.54,1462.26 2200.26,1462.26 2200.26,1266 1920.54,1266 1920.54,1266 \n",
       "  \" fill=\"#009af9\" fill-rule=\"evenodd\" fill-opacity=\"1\"/>\n",
       "<polyline clip-path=\"url(#clip0203)\" style=\"stroke:#000000; stroke-width:4; stroke-opacity:1; fill:none\" points=\"\n",
       "  1920.54,1266 1920.54,1462.26 2200.26,1462.26 2200.26,1266 1920.54,1266 \n",
       "  \"/>\n",
       "<polygon clip-path=\"url(#clip0201)\" points=\"\n",
       "1958.43,251.724 2249.26,251.724 2249.26,130.764 1958.43,130.764 \n",
       "  \" fill=\"#ffffff\" fill-rule=\"evenodd\" fill-opacity=\"1\"/>\n",
       "<polyline clip-path=\"url(#clip0201)\" style=\"stroke:#000000; stroke-width:4; stroke-opacity:1; fill:none\" points=\"\n",
       "  1958.43,251.724 2249.26,251.724 2249.26,130.764 1958.43,130.764 1958.43,251.724 \n",
       "  \"/>\n",
       "<polygon clip-path=\"url(#clip0201)\" points=\"\n",
       "1982.43,215.436 2126.43,215.436 2126.43,167.052 1982.43,167.052 1982.43,215.436 \n",
       "  \" fill=\"#009af9\" fill-rule=\"evenodd\" fill-opacity=\"1\"/>\n",
       "<polyline clip-path=\"url(#clip0201)\" style=\"stroke:#000000; stroke-width:4; stroke-opacity:1; fill:none\" points=\"\n",
       "  1982.43,215.436 2126.43,215.436 2126.43,167.052 1982.43,167.052 1982.43,215.436 \n",
       "  \"/>\n",
       "<g clip-path=\"url(#clip0201)\">\n",
       "<text style=\"fill:#000000; fill-opacity:1; font-family:Arial,Helvetica Neue,Helvetica,sans-serif; font-size:48px; text-anchor:start;\" transform=\"rotate(0, 2150.43, 208.744)\" x=\"2150.43\" y=\"208.744\">y1</text>\n",
       "</g>\n",
       "</svg>\n"
      ]
     },
     "execution_count": 38,
     "metadata": {},
     "output_type": "execute_result"
    }
   ],
   "source": [
    "histogram(x, bins=12)"
   ]
  },
  {
   "cell_type": "code",
   "execution_count": 39,
   "metadata": {},
   "outputs": [
    {
     "data": {
      "text/plain": [
       "19.166666666666668"
      ]
     },
     "execution_count": 39,
     "metadata": {},
     "output_type": "execute_result"
    }
   ],
   "source": [
    "y = StatsBase.mean(x)"
   ]
  },
  {
   "cell_type": "code",
   "execution_count": 40,
   "metadata": {},
   "outputs": [
    {
     "data": {
      "text/plain": [
       "8792.596274074074"
      ]
     },
     "execution_count": 40,
     "metadata": {},
     "output_type": "execute_result"
    }
   ],
   "source": [
    "n = length(x)\n",
    "m_2 = sum([(x[i]-y)^2 for i in 1:n])/n\n",
    "m_3 = sum([(x[i]-y)^3 for i in 1:n])/n\n",
    "m_4 = sum([(x[i]-y)^4 for i in 1:n])/n"
   ]
  },
  {
   "cell_type": "code",
   "execution_count": 41,
   "metadata": {},
   "outputs": [
    {
     "data": {
      "text/plain": [
       "0.9015930214865757"
      ]
     },
     "execution_count": 41,
     "metadata": {},
     "output_type": "execute_result"
    }
   ],
   "source": [
    "b_1 = m_3/m_2^(3/2)"
   ]
  },
  {
   "cell_type": "code",
   "execution_count": 42,
   "metadata": {},
   "outputs": [
    {
     "data": {
      "text/plain": [
       "2.401462680424256"
      ]
     },
     "execution_count": 42,
     "metadata": {},
     "output_type": "execute_result"
    }
   ],
   "source": [
    "b_2 = m_4/m_2^2-3"
   ]
  },
  {
   "cell_type": "code",
   "execution_count": null,
   "metadata": {},
   "outputs": [],
   "source": []
  }
 ],
 "metadata": {
  "kernelspec": {
   "display_name": "Julia 1.0.1",
   "language": "julia",
   "name": "julia-1.0"
  },
  "language_info": {
   "file_extension": ".jl",
   "mimetype": "application/julia",
   "name": "julia",
   "version": "1.0.1"
  }
 },
 "nbformat": 4,
 "nbformat_minor": 2
}
